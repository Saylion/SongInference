{
  "cells": [
    {
      "cell_type": "markdown",
      "metadata": {
        "id": "view-in-github",
        "colab_type": "text"
      },
      "source": [
        "<a href=\"https://colab.research.google.com/github/Saylion/SongInverence/blob/main/Song_Inference.ipynb\" target=\"_parent\"><img src=\"https://colab.research.google.com/assets/colab-badge.svg\" alt=\"Open In Colab\"/></a>"
      ]
    },
    {
      "cell_type": "markdown",
      "metadata": {
        "id": "ApXHLBri3yZI"
      },
      "source": [
        "<center>\n",
        "<font face=\"verdana\"><font size=\"8\"<strong>SELAMAT DATANG DI SONG INFERENCE COLAB</strong></font>\n",
        "<font face=\"verdana\"><p align=\"center\"><i>Last update at : 26 Maret 2024</i></p>\n",
        "<img src=\"https://www.gambaranimasi.org/data/media/562/animasi-bergerak-garis-0091.gif\" border=\"0\" height=\"8\" width=\"850\">\n",
        "<br>\n",
        "<br>\n",
        "\n",
        "Jika ada saran atau error, bisa langsung menghubungi email berikut\n",
        "<a href=\"mailto:iacorporation.business@gmail.com\" alt=\"my email\">email me</a>\n",
        "\n",
        "<i>If you have any suggestions or errors,  you can directly contact the following email\n",
        "<a href=\"mailto:iacorporation.business@gmail.com\" alt=\"my email\">email me</a></i>\n",
        "</center>\n",
        "\n",
        "<hr>\n",
        "<br>\n",
        "<p>Changelog (26 Maret 2024):</p>\n",
        "<ol>\n",
        "  <li>Menambahkan fitur metode pemisahan vocal dan instrumen menggunakan Demucs/UVR-MDXNET<br>\n",
        "    <i>\"Added vocal and instrument separation method feature using Demucs/UVR-MDXNET\"</i>\n",
        "  </li><br>\n",
        "  <li>Perbaikan beberapa bugs<br>\n",
        "    <i>\"Fixed some bugs</i>\n",
        "  </li>\n",
        "</ol>\n",
        "\n",
        "<p>More about <a href=\"https://github.com/Saylion/SongInverence/blob/d0c0562fc5b0a3970ba243e0bb4d0119f2d46fe8/changelog.txt\">changelog</a><br></p><br>\n",
        "\n",
        "Google colab collection :\n",
        "<ul>\n",
        "  <li>RVC Mode Training (include inference)</li>\n",
        "\n",
        "<a href=\"https://colab.research.google.com/drive/1-efktIIzxUMu6NqhBX6H57TEseMY3Zee?usp=drive_link\"><img src=\"https://colab.research.google.com/assets/colab-badge.svg\"></a>\n",
        "</ul>\n",
        "<br><br><br><br>"
      ]
    },
    {
      "cell_type": "code",
      "execution_count": null,
      "metadata": {
        "id": "cVfH-2oSu77d",
        "cellView": "form"
      },
      "outputs": [],
      "source": [
        "#@title Input Form\n",
        "#@markdown Fill modelname to inference <br>\n",
        "#@markdown (bisa multi model, pisahkan dengan spasi atau pilih All model untuk memindahkan semua model dari drive)\n",
        "\n",
        "Input_Option = \"Manual\" #@param[\"Manual\", \"All Model\"]\n",
        "\n",
        "Option = Input_Option\n",
        "\n",
        "MODELNAME = \"Your_model\"  #@param {type:\"string\"}\n",
        "\n",
        "Save_output_song_to_drive = False #@param{type:'boolean'}\n",
        "\n",
        "Save = Save_output_song_to_drive\n",
        "\n",
        "import sys\n",
        "import time\n",
        "!pip install colorama &> /dev/null\n",
        "from colorama import Fore, Back, Style\n",
        "\n",
        "if MODELNAME == \"Your_model\" and Option == \"Manual\":\n",
        "   print(\"\\n\")\n",
        "   print(Back.RED, Fore.WHITE + \"\\033[1mMasukkan nama model dengan benar atau pilih All Model!\\033[0m\",\"\\n\" + Style.RESET_ALL)\n",
        "   print(\"Nama model\", \"\\033[1m\", MODELNAME, \"\\033[0madalah template\\n\")\n",
        "   print(\"Menghentikan runtime...\\n\")\n",
        "   time.sleep(3)\n",
        "   print(\"Runtime Berhenti!\")\n",
        "\n",
        "   exit()"
      ]
    },
    {
      "cell_type": "code",
      "execution_count": null,
      "metadata": {
        "id": "jHIusMOLwkJI",
        "cellView": "form"
      },
      "outputs": [],
      "source": [
        "#@title Mount Drive\n",
        "\n",
        "from google.colab import drive\n",
        "drive.mount('/content/drive')"
      ]
    },
    {
      "cell_type": "code",
      "execution_count": null,
      "metadata": {
        "id": "h1ysQAC1wp1x",
        "cellView": "form"
      },
      "outputs": [],
      "source": [
        "#@title Clone repository\n",
        "from IPython.display import clear_output, Javascript\n",
        "!git clone https://github.com/Saylion/SongInverence.git\n",
        "clear_output()\n",
        "print(\"Proses cloning repository selesai, lanjut ke sel selanjutnya\")"
      ]
    },
    {
      "cell_type": "code",
      "source": [
        "#@title Fix CUDA Problem\n",
        "!sudo apt update\n",
        "!yes | sudo DEBIAN_FRONTEND=noninteractive apt-get -yq install cuda-11-8\n",
        "!rm -rf sample_data\n",
        "clear_output()\n",
        "print(\"Proses Selesai\")\n",
        "%cd SongInverence"
      ],
      "metadata": {
        "cellView": "form",
        "id": "T2OVzGRwXoiH"
      },
      "execution_count": null,
      "outputs": []
    },
    {
      "cell_type": "code",
      "execution_count": null,
      "metadata": {
        "id": "cjk68x7PwyMq",
        "cellView": "form"
      },
      "outputs": [],
      "source": [
        "#@title Install requirements\n",
        "!pip install -q -r requirements.txt\n",
        "!pip install gradio-client==0.8.1\n",
        "!pip install gradio==3.48.0\n",
        "!pip install torch==2.0.1+cu118 torchaudio==2.0.2+cu118 -f https://download.pytorch.org/whl/torch_stable.html\n",
        "!python3 -m pip install -U demucs\n",
        "!sudo apt update\n",
        "!sudo apt install sox\n",
        "\n",
        "clear_output()\n",
        "print(\"Instalasi kebutuhan selesai, lanjut ke sel berikutnya \")"
      ]
    },
    {
      "cell_type": "code",
      "execution_count": null,
      "metadata": {
        "id": "bLuozp2fw3Np",
        "cellView": "form"
      },
      "outputs": [],
      "source": [
        "#@title Download MDXNet Vocal Separation and Hubert Base Models\n",
        "!python src/download_models.py"
      ]
    },
    {
      "cell_type": "code",
      "execution_count": null,
      "metadata": {
        "id": "mJH0VfK6xL6G",
        "cellView": "form"
      },
      "outputs": [],
      "source": [
        "#@title Copy modelname\n",
        "\n",
        "import numpy as np\n",
        "import os\n",
        "\n",
        "# Create an empty NumPy array\n",
        "modelnames = np.array([])\n",
        "\n",
        "# Split the user input into a list of strings\n",
        "model_input_list = MODELNAME.split(\" \")\n",
        "\n",
        "# Convert the list of strings to a NumPy array\n",
        "modelnames = np.array(model_input_list)\n",
        "\n",
        "#List folder RVC di Drive\n",
        "path = \"/content/drive/MyDrive/RVC\"\n",
        "\n",
        "folders = os.listdir(path)\n",
        "array_folders = []\n",
        "for folder in folders:\n",
        "  if not os.path.isfile(os.path.join(path, folder)):\n",
        "    array_folders.append(folder)\n",
        "\n",
        "list_folder = np.array(array_folders)\n",
        "\n",
        "if Option == \"Manual\":\n",
        "    for modelname in modelnames:\n",
        "        !mkdir -p /content/SongInverence/rvc_models/{modelname}/\n",
        "\n",
        "\n",
        "        !cp /content/drive/MyDrive/RVC/{modelname}/added_*.index /content/SongInverence/rvc_models/{modelname}/\n",
        "\n",
        "        !cp /content/drive/MyDrive/RVC/weights/{modelname}.pth /content/SongInverence/rvc_models/{modelname}\n",
        "\n",
        "else:\n",
        "    for folder in list_folder:\n",
        "        if not folder == \"weights\" and not folder == \".ipynb_checkpoints\":\n",
        "           !mkdir -p /content/SongInverence/rvc_models/{folder}/\n",
        "           !cp /content/drive/MyDrive/RVC/{folder}/added_*.index /content/SongInverence/rvc_models/{folder}/\n",
        "           !cp -r /content/drive/MyDrive/RVC/weights/{folder}.pth /content/SongInverence/rvc_models/{folder}\n",
        "\n",
        "clear_output()\n",
        "# Temukan semua folder yang berisi kurang dari 2 file (tidak termasuk subfolder) dan hapus\n",
        "%cd /content/SongInverence/rvc_models\n",
        "!find . -type d -exec bash -c '[[ $(find \"$1\" -maxdepth 1 -type f | wc -l) -lt 2 ]]' _ {} \\; -print0 | xargs -0 rm -rf\n",
        "\n",
        "length = len(modelnames)\n",
        "if length:\n",
        "    print(\"Model sudah berhasil dipindah ke\")\n",
        "else:\n",
        "    print(\"Semua model sudah berhasil dipindah ke\")\n",
        "print(\"\\nList Model Saat Ini:\")\n",
        "!find . -maxdepth 1 -type d | sort -V\n",
        "print(\"\\n\")\n",
        "%cd /content/SongInverence"
      ]
    },
    {
      "cell_type": "code",
      "execution_count": null,
      "metadata": {
        "id": "2U1G-x9_xXJK",
        "cellView": "form"
      },
      "outputs": [],
      "source": [
        "#@title Run WebUI\n",
        "\n",
        "!python src/webui.py --share"
      ]
    },
    {
      "cell_type": "code",
      "execution_count": null,
      "metadata": {
        "colab": {
          "background_save": true
        },
        "id": "foMSETJL7f7s",
        "cellView": "form"
      },
      "outputs": [],
      "source": [
        "#@title Copy Output song to drive (Optional)\n",
        "\n",
        "if Save == True and Option == \"Manual\":\n",
        "  for modelname in modelnames:\n",
        "      !mkdir -p /content/drive/MyDrive/Output/{modelname}\n",
        "      !cp -r /content/SongInverence/song_output/* /content/drive/MyDrive/Output/{modelname}\n",
        "      print(\"output sudah di copy ke drive\")\n",
        "elif Save == True and Option == \"All Model\":\n",
        "      !mkdir -p /content/drive/MyDrive/Output/Output_All\n",
        "      !cp -r /content/SongInverence/song_output/ /content/drive/MyDrive/Output/Output_All\n",
        "      print(\"output sudah di copy ke drive\")\n",
        "else:\n",
        "  print(\"output tidak di copy ke drive\")"
      ]
    }
  ],
  "metadata": {
    "accelerator": "GPU",
    "colab": {
      "provenance": [],
      "authorship_tag": "ABX9TyOukU5dsbb/tzrtPZU2m4XO",
      "include_colab_link": true
    },
    "kernelspec": {
      "display_name": "Python 3",
      "name": "python3"
    },
    "language_info": {
      "name": "python"
    }
  },
  "nbformat": 4,
  "nbformat_minor": 0
}